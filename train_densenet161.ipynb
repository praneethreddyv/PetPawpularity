{
 "cells": [
  {
   "cell_type": "code",
   "execution_count": 1,
   "metadata": {
    "_cell_guid": "b1076dfc-b9ad-4769-8c92-a6c4dae69d19",
    "_uuid": "8f2839f25d086af736a60e9eeb907d3b93b6e0e5",
    "execution": {
     "iopub.execute_input": "2021-12-02T06:20:34.500684Z",
     "iopub.status.busy": "2021-12-02T06:20:34.499869Z",
     "iopub.status.idle": "2021-12-02T06:20:36.791273Z",
     "shell.execute_reply": "2021-12-02T06:20:36.792430Z",
     "shell.execute_reply.started": "2021-12-02T06:18:02.380477Z"
    },
    "papermill": {
     "duration": 2.31915,
     "end_time": "2021-12-02T06:20:36.792771",
     "exception": false,
     "start_time": "2021-12-02T06:20:34.473621",
     "status": "completed"
    },
    "tags": []
   },
   "outputs": [],
   "source": [
    "import numpy as np\n",
    "import pandas as pd\n",
    "\n",
    "import torch\n",
    "import torch.nn as nn\n",
    "import torch.optim as optim\n",
    "import torch.nn.functional as F\n",
    "from torch.utils.data import DataLoader, Dataset\n",
    "import torchvision.datasets as datasets\n",
    "import torchvision.transforms as transforms\n",
    "import torchvision\n",
    "from torch.cuda import amp\n",
    "\n",
    "import sys\n",
    "import helper\n",
    "\n",
    "from skimage import io\n",
    "from PIL import Image"
   ]
  },
  {
   "cell_type": "code",
   "execution_count": 2,
   "metadata": {
    "execution": {
     "iopub.execute_input": "2021-12-02T06:20:36.849010Z",
     "iopub.status.busy": "2021-12-02T06:20:36.847695Z",
     "iopub.status.idle": "2021-12-02T06:20:38.653930Z",
     "shell.execute_reply": "2021-12-02T06:20:38.653437Z",
     "shell.execute_reply.started": "2021-12-02T06:18:04.841895Z"
    },
    "papermill": {
     "duration": 1.837083,
     "end_time": "2021-12-02T06:20:38.654048",
     "exception": false,
     "start_time": "2021-12-02T06:20:36.816965",
     "status": "completed"
    },
    "tags": []
   },
   "outputs": [],
   "source": [
    "import os\n",
    "import gc\n",
    "import cv2\n",
    "import copy\n",
    "import time\n",
    "import random\n",
    "from PIL import Image\n",
    "\n",
    "from tqdm import tqdm\n",
    "\n",
    "# Sklearn Imports\n",
    "from sklearn.metrics import mean_squared_error\n",
    "from sklearn.model_selection import StratifiedKFold, KFold\n",
    "\n",
    "# Albumentations for augmentations\n",
    "import albumentations as A\n",
    "from albumentations.pytorch import ToTensorV2\n",
    "\n",
    "import warnings\n",
    "warnings.filterwarnings(\"ignore\")\n",
    "\n",
    "# For descriptive error messages\n",
    "os.environ['CUDA_LAUNCH_BLOCKING'] = \"1\""
   ]
  },
  {
   "cell_type": "code",
   "execution_count": 3,
   "metadata": {
    "execution": {
     "iopub.execute_input": "2021-12-02T06:20:38.729813Z",
     "iopub.status.busy": "2021-12-02T06:20:38.726747Z",
     "iopub.status.idle": "2021-12-02T06:20:38.734448Z",
     "shell.execute_reply": "2021-12-02T06:20:38.734002Z",
     "shell.execute_reply.started": "2021-12-02T06:18:06.714649Z"
    },
    "papermill": {
     "duration": 0.068516,
     "end_time": "2021-12-02T06:20:38.734568",
     "exception": false,
     "start_time": "2021-12-02T06:20:38.666052",
     "status": "completed"
    },
    "tags": []
   },
   "outputs": [
    {
     "data": {
      "text/plain": [
       "device(type='cuda')"
      ]
     },
     "execution_count": 3,
     "metadata": {},
     "output_type": "execute_result"
    }
   ],
   "source": [
    "# Set device to GPU if available\n",
    "device = torch.device('cuda' if torch.cuda.is_available() else 'cpu')\n",
    "device"
   ]
  },
  {
   "cell_type": "code",
   "execution_count": 4,
   "metadata": {
    "execution": {
     "iopub.execute_input": "2021-12-02T06:20:38.763770Z",
     "iopub.status.busy": "2021-12-02T06:20:38.762223Z",
     "iopub.status.idle": "2021-12-02T06:20:38.764391Z",
     "shell.execute_reply": "2021-12-02T06:20:38.764791Z",
     "shell.execute_reply.started": "2021-12-02T06:18:06.765789Z"
    },
    "papermill": {
     "duration": 0.018306,
     "end_time": "2021-12-02T06:20:38.764905",
     "exception": false,
     "start_time": "2021-12-02T06:20:38.746599",
     "status": "completed"
    },
    "tags": []
   },
   "outputs": [],
   "source": [
    "# Hyperparametes\n",
    "in_channel = 3\n",
    "num_classes = 100\n",
    "learning_rate = 1e-3\n",
    "batch_size = 64\n",
    "num_epochs = 2\n",
    "load_model = True\n",
    "num_workers = 0"
   ]
  },
  {
   "cell_type": "code",
   "execution_count": null,
   "metadata": {
    "papermill": {
     "duration": 0.011246,
     "end_time": "2021-12-02T06:20:38.787529",
     "exception": false,
     "start_time": "2021-12-02T06:20:38.776283",
     "status": "completed"
    },
    "tags": []
   },
   "outputs": [],
   "source": []
  },
  {
   "cell_type": "code",
   "execution_count": 5,
   "metadata": {
    "execution": {
     "iopub.execute_input": "2021-12-02T06:20:38.815365Z",
     "iopub.status.busy": "2021-12-02T06:20:38.814641Z",
     "iopub.status.idle": "2021-12-02T06:20:38.849678Z",
     "shell.execute_reply": "2021-12-02T06:20:38.850115Z",
     "shell.execute_reply.started": "2021-12-02T06:18:06.773373Z"
    },
    "papermill": {
     "duration": 0.0511,
     "end_time": "2021-12-02T06:20:38.850246",
     "exception": false,
     "start_time": "2021-12-02T06:20:38.799146",
     "status": "completed"
    },
    "tags": []
   },
   "outputs": [
    {
     "name": "stdout",
     "output_type": "stream",
     "text": [
      "(9912, 14)\n",
      "(8, 13)\n"
     ]
    }
   ],
   "source": [
    "kaggle_path = \"../input/petfinder-pawpularity-score/\"\n",
    "root = kaggle_path\n",
    "# Load data\n",
    "train_df = pd.read_csv(kaggle_path + 'train.csv')\n",
    "test_df = pd.read_csv(kaggle_path + 'test.csv')\n",
    "print(train_df.shape)\n",
    "print(test_df.shape)\n",
    "n_test_samples = test_df.shape[0]\n",
    "train_data = kaggle_path + 'train'\n",
    "test_data = kaggle_path + 'test'"
   ]
  },
  {
   "cell_type": "code",
   "execution_count": 6,
   "metadata": {
    "execution": {
     "iopub.execute_input": "2021-12-02T06:20:38.882479Z",
     "iopub.status.busy": "2021-12-02T06:20:38.881917Z",
     "iopub.status.idle": "2021-12-02T06:20:38.885424Z",
     "shell.execute_reply": "2021-12-02T06:20:38.884943Z",
     "shell.execute_reply.started": "2021-12-02T06:18:06.824125Z"
    },
    "papermill": {
     "duration": 0.023522,
     "end_time": "2021-12-02T06:20:38.885533",
     "exception": false,
     "start_time": "2021-12-02T06:20:38.862011",
     "status": "completed"
    },
    "tags": []
   },
   "outputs": [],
   "source": [
    "class PicSet(Dataset):\n",
    "    def __init__(self, root, train=False, transform = None):\n",
    "        self.train=train\n",
    "        self.imgs = os.listdir(root)\n",
    "        self.root = root\n",
    "        self.transforms = transform\n",
    "\n",
    "        self.csv_data = pd.read_csv(root + '.csv')\n",
    "\n",
    "\n",
    "    def __getitem__(self, index):\n",
    "        img_path = self.root + '/'+self.csv_data['Id'][index] + '.jpg'\n",
    "        pil_img = Image.open(img_path)\n",
    "        if self.transforms:\n",
    "            data = self.transforms(pil_img)\n",
    "        else:\n",
    "            pil_img = np.asarray(pil_img)\n",
    "            data = torch.from_numpy(pil_img)\n",
    "        if self.train:\n",
    "            label = torch.tensor(self.csv_data['Pawpularity'][index])\n",
    "            return data, label\n",
    "        else:\n",
    "            return data\n",
    "\n",
    "\n",
    "    def __len__(self):\n",
    "        return len(self.imgs)"
   ]
  },
  {
   "cell_type": "code",
   "execution_count": 7,
   "metadata": {
    "execution": {
     "iopub.execute_input": "2021-12-02T06:20:38.916249Z",
     "iopub.status.busy": "2021-12-02T06:20:38.915479Z",
     "iopub.status.idle": "2021-12-02T06:20:38.918129Z",
     "shell.execute_reply": "2021-12-02T06:20:38.917751Z",
     "shell.execute_reply.started": "2021-12-02T06:18:06.835402Z"
    },
    "papermill": {
     "duration": 0.021092,
     "end_time": "2021-12-02T06:20:38.918228",
     "exception": false,
     "start_time": "2021-12-02T06:20:38.897136",
     "status": "completed"
    },
    "tags": []
   },
   "outputs": [],
   "source": [
    "def load_pic(train_path, test_path):\n",
    "    transform = transforms.Compose([\n",
    "                    transforms.Resize(256),\n",
    "                    transforms.CenterCrop(224),\n",
    "                    transforms.RandomHorizontalFlip(),\n",
    "                    transforms.ConvertImageDtype(torch.float),\n",
    "                    transforms.Normalize(mean=[0.485, 0.456, 0.406],\n",
    "                                        std=[0.229, 0.224, 0.225])])\n",
    "    train_dataset = PicSet(train_path,train=True, transform = transform)\n",
    "    pic_num = len(train_dataset)\n",
    "    train_dataset, val_dataset = torch.utils.data.random_split(train_dataset,\n",
    "                                                               [int(pic_num * 0.9), pic_num - int(pic_num * 0.9)])\n",
    "    # print('train:', len(train_dataset), 'val:', len(val_dataset))\n",
    "\n",
    "    train_loader = torch.utils.data.DataLoader(train_dataset,\n",
    "                                               batch_size=batch_size,\n",
    "                                               shuffle=True,\n",
    "                                               num_workers=num_workers)\n",
    "\n",
    "    val_loader = torch.utils.data.DataLoader(val_dataset,\n",
    "                                             batch_size=batch_size,\n",
    "                                             shuffle=False,\n",
    "                                             num_workers=num_workers)\n",
    "\n",
    "    test_dataset = PicSet(test_path)\n",
    "    test_loader = torch.utils.data.DataLoader(test_dataset, batch_size=batch_size, shuffle=False,\n",
    "                                              num_workers=num_workers)\n",
    "    return train_loader, val_loader, test_loader"
   ]
  },
  {
   "cell_type": "code",
   "execution_count": 8,
   "metadata": {
    "execution": {
     "iopub.execute_input": "2021-12-02T06:20:38.945089Z",
     "iopub.status.busy": "2021-12-02T06:20:38.944587Z",
     "iopub.status.idle": "2021-12-02T06:20:39.142138Z",
     "shell.execute_reply": "2021-12-02T06:20:39.141687Z",
     "shell.execute_reply.started": "2021-12-02T06:18:06.849295Z"
    },
    "papermill": {
     "duration": 0.212583,
     "end_time": "2021-12-02T06:20:39.142264",
     "exception": false,
     "start_time": "2021-12-02T06:20:38.929681",
     "status": "completed"
    },
    "tags": []
   },
   "outputs": [],
   "source": [
    "train_loader, val_loader, test_loader = load_pic(train_data, test_data)"
   ]
  },
  {
   "cell_type": "code",
   "execution_count": 9,
   "metadata": {
    "execution": {
     "iopub.execute_input": "2021-12-02T06:20:39.171901Z",
     "iopub.status.busy": "2021-12-02T06:20:39.171121Z",
     "iopub.status.idle": "2021-12-02T06:20:39.173081Z",
     "shell.execute_reply": "2021-12-02T06:20:39.173512Z",
     "shell.execute_reply.started": "2021-12-02T06:18:07.104644Z"
    },
    "papermill": {
     "duration": 0.019026,
     "end_time": "2021-12-02T06:20:39.173643",
     "exception": false,
     "start_time": "2021-12-02T06:20:39.154617",
     "status": "completed"
    },
    "tags": []
   },
   "outputs": [],
   "source": [
    "def save_checkpoint(state, filename=\"my_checkpoint.pth.tar\"):\n",
    "    print(\"Saving Checkpoint\")\n",
    "    torch.save(state, filename)\n",
    "\n",
    "def load_checkpoint(checkpoint):\n",
    "    print(\"Loading Checkpoint\")\n",
    "    model.load_state_dict(checkpoint['state_dict'])\n",
    "    "
   ]
  },
  {
   "cell_type": "code",
   "execution_count": null,
   "metadata": {},
   "outputs": [],
   "source": [
    "# Load pretrain model and modify it if available\n",
    "if load_model:\n",
    "    model = torchvision.models.densenet161(pretrained=False)\n",
    "else:\n",
    "    model = torchvision.models.densenet161(pretrained=True)\n",
    "    \n",
    "for param in model.parameters():\n",
    "    param.requires_grad = False\n",
    "\n",
    "model.classifier = nn.Sequential(nn.BatchNorm1d(2208), nn.ReLU(inplace=True), nn.Dropout(p=0.6), nn.Linear(2208, 64),\n",
    "                                 nn.BatchNorm1d(64), nn.ReLU(), nn.Linear(64, 1))\n",
    "for param in model.classifier.parameters():\n",
    "    param.require_grad = True\n",
    "    \n",
    "model.to(device)\n",
    "\n",
    "if load_model:\n",
    "    load_checkpoint(torch.load(\"../input/pawpularity-trained-model-dense161/my_checkpoint.pth.tar\"))\n",
    "    #load_checkpoint(torch.load(\"../input/petfinder-pawpularity-score/my_checkpoint.pth.tar\"))"
   ]
  },
  {
   "cell_type": "code",
   "execution_count": null,
   "metadata": {
    "papermill": {
     "duration": 0.012474,
     "end_time": "2021-12-02T06:20:50.518687",
     "exception": false,
     "start_time": "2021-12-02T06:20:50.506213",
     "status": "completed"
    },
    "tags": []
   },
   "outputs": [],
   "source": [
    "# Loss and Optimizer\n",
    "criterion = nn.MSELoss()\n",
    "optimizer = optim.Adam(model.classifier.parameters(), weight_decay=4e-4, lr=1e-3)\n",
    "reduce_lr = optim.lr_scheduler.StepLR(optimizer, step_size=3, gamma=0.6, verbose=True)\n",
    "\n",
    "\n",
    "# Train Network\n",
    "for epoch in range(num_epochs):\n",
    "    batch_train_loss = []\n",
    "    batch_val_loss = []\n",
    "    model.train()\n",
    "    with tqdm(total=len(train_loader)) as t:\n",
    "        for batch_idx, (data, target) in enumerate(train_loader):\n",
    "            #Get data to cuda if possible\n",
    "            data = data.to(device=device)\n",
    "            target = target.to(device=device)\n",
    "            target = target.to(torch.float32)\n",
    "\n",
    "            # forward pass\n",
    "            scores = model(data)\n",
    "            loss = criterion(scores, target)\n",
    "            batch_train_loss.append(loss.item())\n",
    "            # backward pass\n",
    "            optimizer.zero_grad()\n",
    "            loss.backward()\n",
    "\n",
    "            # gradient descent or adam step\n",
    "            optimizer.step()\n",
    "            t.set_postfix(loss=loss.item())\n",
    "            t.update(1)\n",
    "\n",
    "    checkpoint = {'state_dict':model.state_dict()}\n",
    "    save_checkpoint(checkpoint)\n",
    "    \n",
    "    model.eval()\n",
    "    for batch_idx, (data, target) in enumerate(val_loader):\n",
    "        \n",
    "        data = data.to(device)\n",
    "        target = target.to(device)\n",
    "        \n",
    "        scores = model(data)\n",
    "        loss = criterion(scores, target)\n",
    "        batch_val_loss.append(loss.item())\n",
    "    \n",
    "    print(f\"Average train loss:{np.mean(batch_train_loss)}\")\n",
    "    print(f\"Average val loss:{np.mean(batch_val_loss)}\")\n",
    "    reduce_lr.step()\n"
   ]
  },
  {
   "cell_type": "code",
   "execution_count": 12,
   "metadata": {
    "execution": {
     "iopub.execute_input": "2021-12-02T06:27:38.589947Z",
     "iopub.status.busy": "2021-12-02T06:27:38.589325Z",
     "iopub.status.idle": "2021-12-02T06:27:38.677998Z",
     "shell.execute_reply": "2021-12-02T06:27:38.677482Z",
     "shell.execute_reply.started": "2021-12-02T05:18:35.921608Z"
    },
    "papermill": {
     "duration": 0.249304,
     "end_time": "2021-12-02T06:27:38.678138",
     "exception": false,
     "start_time": "2021-12-02T06:27:38.428834",
     "status": "completed"
    },
    "tags": []
   },
   "outputs": [],
   "source": [
    "test_scores = []\n",
    "for batch_idx, (data) in enumerate(test_loader):\n",
    "    data = data.to(device)\n",
    "    model.eval()\n",
    "    with torch.no_grad():\n",
    "        scores = model(data)\n",
    "        scores = np.array(scores.cpu().detach().numpy())\n",
    "        test_scores.extend(list(np.ceil(np.max(scores, axis=1))))"
   ]
  },
  {
   "cell_type": "code",
   "execution_count": null,
   "metadata": {},
   "outputs": [],
   "source": [
    "submission = pd.DataFrame({\"Id\":test_df.Id.values, \"Pawpularity\":test_scores})\n",
    "submission.to_csv(\"submission.csv\", index=False)"
   ]
  },
  {
   "cell_type": "code",
   "execution_count": 13,
   "metadata": {
    "execution": {
     "iopub.execute_input": "2021-12-02T06:27:39.005278Z",
     "iopub.status.busy": "2021-12-02T06:27:39.004766Z",
     "iopub.status.idle": "2021-12-02T06:27:39.012320Z",
     "shell.execute_reply": "2021-12-02T06:27:39.012989Z",
     "shell.execute_reply.started": "2021-12-02T05:18:35.927026Z"
    },
    "papermill": {
     "duration": 0.168268,
     "end_time": "2021-12-02T06:27:39.013176",
     "exception": false,
     "start_time": "2021-12-02T06:27:38.844908",
     "status": "completed"
    },
    "tags": []
   },
   "outputs": [
    {
     "name": "stdout",
     "output_type": "stream",
     "text": [
      "                                 Id  Pawpularity\n",
      "0  4128bae22183829d2b5fea10effdb0c3         18.0\n",
      "1  43a2262d7738e3d420d453815151079e         16.0\n",
      "2  4e429cead1848a298432a0acad014c9d         18.0\n",
      "3  80bc3ccafcc51b66303c2c263aa38486         17.0\n",
      "4  8f49844c382931444e68dffbe20228f4         17.0\n"
     ]
    }
   ],
   "source": [
    "print(submission.head())"
   ]
  },
  {
   "cell_type": "code",
   "execution_count": null,
   "metadata": {
    "papermill": {
     "duration": 0.154501,
     "end_time": "2021-12-02T06:27:39.323687",
     "exception": false,
     "start_time": "2021-12-02T06:27:39.169186",
     "status": "completed"
    },
    "tags": []
   },
   "outputs": [],
   "source": []
  }
 ],
 "metadata": {
  "kernelspec": {
   "display_name": "Python 3",
   "language": "python",
   "name": "python3"
  },
  "language_info": {
   "codemirror_mode": {
    "name": "ipython",
    "version": 3
   },
   "file_extension": ".py",
   "mimetype": "text/x-python",
   "name": "python",
   "nbconvert_exporter": "python",
   "pygments_lexer": "ipython3",
   "version": "3.8.5"
  },
  "papermill": {
   "default_parameters": {},
   "duration": 435.529628,
   "end_time": "2021-12-02T06:27:41.802060",
   "environment_variables": {},
   "exception": null,
   "input_path": "__notebook__.ipynb",
   "output_path": "__notebook__.ipynb",
   "parameters": {},
   "start_time": "2021-12-02T06:20:26.272432",
   "version": "2.3.3"
  }
 },
 "nbformat": 4,
 "nbformat_minor": 5
}
